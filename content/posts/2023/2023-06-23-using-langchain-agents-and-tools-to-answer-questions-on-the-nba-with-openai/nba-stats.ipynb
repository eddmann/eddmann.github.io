{
 "cells": [
  {
   "cell_type": "markdown",
   "metadata": {},
   "source": [
    "# NBA Statistics\n",
    "\n",
    "Documents the use of LangChain Agents/Tools to help aid in answering questions based on recent events."
   ]
  },
  {
   "cell_type": "code",
   "execution_count": 32,
   "metadata": {},
   "outputs": [
    {
     "name": "stdout",
     "output_type": "stream",
     "text": [
      "Requirement already satisfied: langchain in /usr/local/lib/python3.10/site-packages (0.0.192)\n",
      "Requirement already satisfied: openai in /usr/local/lib/python3.10/site-packages (0.27.8)\n",
      "Requirement already satisfied: python-dotenv in /usr/local/lib/python3.10/site-packages (1.0.0)\n",
      "Requirement already satisfied: bs4 in /usr/local/lib/python3.10/site-packages (0.0.1)\n",
      "Requirement already satisfied: requests in /usr/local/lib/python3.10/site-packages (2.31.0)\n",
      "Requirement already satisfied: PyYAML>=5.4.1 in /usr/local/lib/python3.10/site-packages (from langchain) (6.0)\n",
      "Requirement already satisfied: SQLAlchemy<3,>=1.4 in /usr/local/lib/python3.10/site-packages (from langchain) (2.0.15)\n",
      "Requirement already satisfied: aiohttp<4.0.0,>=3.8.3 in /usr/local/lib/python3.10/site-packages (from langchain) (3.8.4)\n",
      "Requirement already satisfied: async-timeout<5.0.0,>=4.0.0 in /usr/local/lib/python3.10/site-packages (from langchain) (4.0.2)\n",
      "Requirement already satisfied: dataclasses-json<0.6.0,>=0.5.7 in /usr/local/lib/python3.10/site-packages (from langchain) (0.5.7)\n",
      "Requirement already satisfied: langchainplus-sdk<0.0.5,>=0.0.4 in /usr/local/lib/python3.10/site-packages (from langchain) (0.0.4)\n",
      "Requirement already satisfied: numexpr<3.0.0,>=2.8.4 in /usr/local/lib/python3.10/site-packages (from langchain) (2.8.4)\n",
      "Requirement already satisfied: numpy<2,>=1 in /usr/local/lib/python3.10/site-packages (from langchain) (1.24.3)\n",
      "Requirement already satisfied: openapi-schema-pydantic<2.0,>=1.2 in /usr/local/lib/python3.10/site-packages (from langchain) (1.2.4)\n",
      "Requirement already satisfied: pydantic<2,>=1 in /usr/local/lib/python3.10/site-packages (from langchain) (1.10.8)\n",
      "Requirement already satisfied: tenacity<9.0.0,>=8.1.0 in /usr/local/lib/python3.10/site-packages (from langchain) (8.2.2)\n",
      "Requirement already satisfied: tqdm in /usr/local/lib/python3.10/site-packages (from openai) (4.65.0)\n",
      "Requirement already satisfied: beautifulsoup4 in /usr/local/lib/python3.10/site-packages (from bs4) (4.12.2)\n",
      "Requirement already satisfied: charset-normalizer<4,>=2 in /usr/local/lib/python3.10/site-packages (from requests) (3.1.0)\n",
      "Requirement already satisfied: idna<4,>=2.5 in /usr/local/lib/python3.10/site-packages (from requests) (3.4)\n",
      "Requirement already satisfied: urllib3<3,>=1.21.1 in /usr/local/lib/python3.10/site-packages (from requests) (1.26.16)\n",
      "Requirement already satisfied: certifi>=2017.4.17 in /usr/local/lib/python3.10/site-packages (from requests) (2023.5.7)\n",
      "Requirement already satisfied: attrs>=17.3.0 in /usr/local/lib/python3.10/site-packages (from aiohttp<4.0.0,>=3.8.3->langchain) (23.1.0)\n",
      "Requirement already satisfied: multidict<7.0,>=4.5 in /usr/local/lib/python3.10/site-packages (from aiohttp<4.0.0,>=3.8.3->langchain) (6.0.4)\n",
      "Requirement already satisfied: yarl<2.0,>=1.0 in /usr/local/lib/python3.10/site-packages (from aiohttp<4.0.0,>=3.8.3->langchain) (1.9.2)\n",
      "Requirement already satisfied: frozenlist>=1.1.1 in /usr/local/lib/python3.10/site-packages (from aiohttp<4.0.0,>=3.8.3->langchain) (1.3.3)\n",
      "Requirement already satisfied: aiosignal>=1.1.2 in /usr/local/lib/python3.10/site-packages (from aiohttp<4.0.0,>=3.8.3->langchain) (1.3.1)\n",
      "Requirement already satisfied: marshmallow<4.0.0,>=3.3.0 in /usr/local/lib/python3.10/site-packages (from dataclasses-json<0.6.0,>=0.5.7->langchain) (3.19.0)\n",
      "Requirement already satisfied: marshmallow-enum<2.0.0,>=1.5.1 in /usr/local/lib/python3.10/site-packages (from dataclasses-json<0.6.0,>=0.5.7->langchain) (1.5.1)\n",
      "Requirement already satisfied: typing-inspect>=0.4.0 in /usr/local/lib/python3.10/site-packages (from dataclasses-json<0.6.0,>=0.5.7->langchain) (0.9.0)\n",
      "Requirement already satisfied: typing-extensions>=4.2.0 in /usr/local/lib/python3.10/site-packages (from pydantic<2,>=1->langchain) (4.6.3)\n",
      "Requirement already satisfied: greenlet!=0.4.17 in /usr/local/lib/python3.10/site-packages (from SQLAlchemy<3,>=1.4->langchain) (2.0.2)\n",
      "Requirement already satisfied: soupsieve>1.2 in /usr/local/lib/python3.10/site-packages (from beautifulsoup4->bs4) (2.4.1)\n",
      "Requirement already satisfied: packaging>=17.0 in /usr/local/lib/python3.10/site-packages (from marshmallow<4.0.0,>=3.3.0->dataclasses-json<0.6.0,>=0.5.7->langchain) (23.1)\n",
      "Requirement already satisfied: mypy-extensions>=0.3.0 in /usr/local/lib/python3.10/site-packages (from typing-inspect>=0.4.0->dataclasses-json<0.6.0,>=0.5.7->langchain) (1.0.0)\n"
     ]
    }
   ],
   "source": [
    "!pip install langchain openai python-dotenv bs4 requests"
   ]
  },
  {
   "cell_type": "code",
   "execution_count": 33,
   "metadata": {},
   "outputs": [
    {
     "data": {
      "text/plain": [
       "True"
      ]
     },
     "execution_count": 33,
     "metadata": {},
     "output_type": "execute_result"
    }
   ],
   "source": [
    "from dotenv import load_dotenv\n",
    "load_dotenv()"
   ]
  },
  {
   "cell_type": "code",
   "execution_count": 36,
   "metadata": {},
   "outputs": [],
   "source": [
    "from langchain.llms import OpenAI\n",
    "\n",
    "llm = OpenAI(\n",
    "    temperature=0,\n",
    "    verbose=True,\n",
    "    model_name=\"text-davinci-003\"\n",
    ")"
   ]
  },
  {
   "cell_type": "markdown",
   "metadata": {},
   "source": [
    "## Without a source\n",
    "\n",
    "The LLM was trained upto a given point in time, it is not aware of recent events."
   ]
  },
  {
   "cell_type": "code",
   "execution_count": 37,
   "metadata": {},
   "outputs": [],
   "source": [
    "question = \"Was the 2023 NBA season MVP part of the team that won the NBA championship that year?\""
   ]
  },
  {
   "cell_type": "code",
   "execution_count": 38,
   "metadata": {},
   "outputs": [
    {
     "data": {
      "text/plain": [
       "'\\n\\nIt is too early to tell.'"
      ]
     },
     "execution_count": 38,
     "metadata": {},
     "output_type": "execute_result"
    }
   ],
   "source": [
    "llm(question)"
   ]
  },
  {
   "cell_type": "markdown",
   "metadata": {},
   "source": [
    "It can also be completely wrong..."
   ]
  },
  {
   "cell_type": "code",
   "execution_count": 39,
   "metadata": {},
   "outputs": [
    {
     "data": {
      "text/plain": [
       "'\\n\\nNo, the 1998 NBA season MVP was Michael Jordan of the Chicago Bulls, but the NBA championship that year was won by the San Antonio Spurs.'"
      ]
     },
     "execution_count": 39,
     "metadata": {},
     "output_type": "execute_result"
    }
   ],
   "source": [
    "llm(\"Was the 1998 NBA season MVP part of the team that won the NBA championship that year?\")"
   ]
  },
  {
   "cell_type": "code",
   "execution_count": 40,
   "metadata": {},
   "outputs": [
    {
     "data": {
      "text/plain": [
       "'\\n\\nThe 1998 NBA season MVP was Michael Jordan of the Chicago Bulls. The Chicago Bulls also won the NBA championship that year.'"
      ]
     },
     "execution_count": 40,
     "metadata": {},
     "output_type": "execute_result"
    }
   ],
   "source": [
    "llm(\"Who won the 1998 NBA season MVP, what team where they on?, what team won the NBA championship that year?\")"
   ]
  },
  {
   "cell_type": "markdown",
   "metadata": {},
   "source": [
    "## Adding a source\n",
    "\n",
    "We can improve the models answer by providing tools for it to use to lookup recent events within a given domain.\n",
    "\n",
    "> \"You Don’t Have to Know Everything. You Just Have to Know Where to Find It.\"\n",
    ">\n",
    "> -- <cite>Albert Einstein</cite>"
   ]
  },
  {
   "cell_type": "code",
   "execution_count": 48,
   "metadata": {},
   "outputs": [],
   "source": [
    "from langchain.agents import AgentType, load_tools, initialize_agent, Tool\n",
    "from bs4 import BeautifulSoup\n",
    "import requests\n",
    "\n",
    "def search_statmuse(query: str) -> str:\n",
    "    response = requests.get(f'https://www.statmuse.com/nba/ask/{query}')\n",
    "    soup = BeautifulSoup(response.content, \"html.parser\")\n",
    "    return soup.find(\"h1\", class_=\"nlg-answer\").text\n",
    "\n",
    "statmuse_tool = Tool(\n",
    "    name = \"Statmuse\",\n",
    "    func = search_statmuse,\n",
    "    description = \"\"\"\n",
    "        NBA basketball search engine. Use this if the question is related to NBA basktetball stats and trivia.\n",
    "        For example: 'who is the highest scoring player in the 2023 season?', \n",
    "        You must:\n",
    "        - Always specify a year or timeframe with your search. \n",
    "        - Only search for a single player, MVP or team in a single search.\n",
    "    \"\"\"\n",
    ")\n",
    "\n",
    "tools = load_tools([\"llm-math\"], llm=llm) + [statmuse_tool]\n",
    "agent = initialize_agent(tools, llm, agent=AgentType.ZERO_SHOT_REACT_DESCRIPTION, verbose=True)"
   ]
  },
  {
   "cell_type": "code",
   "execution_count": 49,
   "metadata": {},
   "outputs": [
    {
     "name": "stdout",
     "output_type": "stream",
     "text": [
      "\n",
      "\n",
      "\u001b[1m> Entering new AgentExecutor chain...\u001b[0m\n",
      "\u001b[32;1m\u001b[1;3m I need to find out who the MVP was and which team they were on\n",
      "Action: Statmuse\n",
      "Action Input: Who was the 2023 NBA season MVP?\u001b[0m\n",
      "Observation: \u001b[33;1m\u001b[1;3m\n",
      "Joel Embiid won the MVP award in 2022-23.\n",
      "\u001b[0m\n",
      "Thought:\u001b[32;1m\u001b[1;3m I need to find out which team Joel Embiid was on\n",
      "Action: Statmuse\n",
      "Action Input: What team was Joel Embiid on in the 2023 season?\u001b[0m\n",
      "Observation: \u001b[33;1m\u001b[1;3m\n",
      "Joel Embiid played for the 76ers in 2022-23.\n",
      "\u001b[0m\n",
      "Thought:\u001b[32;1m\u001b[1;3m I need to find out which team won the NBA championship in 2023\n",
      "Action: Statmuse\n",
      "Action Input: Who won the NBA championship in 2023?\u001b[0m\n",
      "Observation: \u001b[33;1m\u001b[1;3m\n",
      "The Denver Nuggets won in the 2023 NBA Finals against the Miami Heat, 4 games to 1.\n",
      "\u001b[0m\n",
      "Thought:\u001b[32;1m\u001b[1;3m I now know the final answer\n",
      "Final Answer: No, Joel Embiid was not part of the team that won the NBA championship in 2023.\u001b[0m\n",
      "\n",
      "\u001b[1m> Finished chain.\u001b[0m\n"
     ]
    },
    {
     "data": {
      "text/plain": [
       "'No, Joel Embiid was not part of the team that won the NBA championship in 2023.'"
      ]
     },
     "execution_count": 49,
     "metadata": {},
     "output_type": "execute_result"
    }
   ],
   "source": [
    "agent.run(question)"
   ]
  },
  {
   "cell_type": "code",
   "execution_count": 50,
   "metadata": {},
   "outputs": [
    {
     "name": "stdout",
     "output_type": "stream",
     "text": [
      "\n",
      "\n",
      "\u001b[1m> Entering new AgentExecutor chain...\u001b[0m\n",
      "\u001b[32;1m\u001b[1;3m I need to find out who the MVP was and which team won the championship\n",
      "Action: Statmuse\n",
      "Action Input: Who was the 1998 NBA season MVP?\u001b[0m\n",
      "Observation: \u001b[33;1m\u001b[1;3m\n",
      "Michael Jordan won the MVP award in 1997-98.\n",
      "\u001b[0m\n",
      "Thought:\u001b[32;1m\u001b[1;3m I need to find out which team won the championship that year\n",
      "Action: Statmuse\n",
      "Action Input: Who won the 1998 NBA championship?\u001b[0m\n",
      "Observation: \u001b[33;1m\u001b[1;3m\n",
      "The Chicago Bulls won in the 1998 NBA Finals against the Utah Jazz, 4 games to 2.\n",
      "\u001b[0m\n",
      "Thought:\u001b[32;1m\u001b[1;3m I now know the final answer\n",
      "Final Answer: Yes, Michael Jordan was part of the team that won the 1998 NBA championship.\u001b[0m\n",
      "\n",
      "\u001b[1m> Finished chain.\u001b[0m\n"
     ]
    },
    {
     "data": {
      "text/plain": [
       "'Yes, Michael Jordan was part of the team that won the 1998 NBA championship.'"
      ]
     },
     "execution_count": 50,
     "metadata": {},
     "output_type": "execute_result"
    }
   ],
   "source": [
    "agent.run(\"Was the 1998 NBA season MVP part of the team that won the NBA championship that year?\")"
   ]
  },
  {
   "cell_type": "markdown",
   "metadata": {},
   "source": [
    "## Combining tools\n",
    "\n",
    "We now can combine the abilities to; reason about a question, find the relevant information, and then compute a given answer."
   ]
  },
  {
   "cell_type": "code",
   "execution_count": 52,
   "metadata": {},
   "outputs": [
    {
     "name": "stdout",
     "output_type": "stream",
     "text": [
      "\n",
      "\n",
      "\u001b[1m> Entering new AgentExecutor chain...\u001b[0m\n",
      "\u001b[32;1m\u001b[1;3m I need to find out who the MVPs were and then add up their points\n",
      "Action: Statmuse\n",
      "Action Input: Who was the 2023 NBA season MVP?\u001b[0m\n",
      "Observation: \u001b[33;1m\u001b[1;3m\n",
      "Joel Embiid won the MVP award in 2022-23.\n",
      "\u001b[0m\n",
      "Thought:\u001b[32;1m\u001b[1;3m Now I need to find out who the Finals MVP was\n",
      "Action: Statmuse\n",
      "Action Input: Who was the 2023 NBA Finals MVP?\u001b[0m\n",
      "Observation: \u001b[33;1m\u001b[1;3m\n",
      "Nikola Jokic won the Finals MVP award once in the 2023 NBA Finals.\n",
      "\u001b[0m\n",
      "Thought:\u001b[32;1m\u001b[1;3m Now I need to find out how many points each of them scored in the 2023 season\n",
      "Action: Statmuse\n",
      "Action Input: How many points did Joel Embiid score in the 2023 season?\u001b[0m\n",
      "Observation: \u001b[33;1m\u001b[1;3m\n",
      "Joel Embiid scored 2,183 points in 2022-23.\n",
      "\u001b[0m\n",
      "Thought:\u001b[32;1m\u001b[1;3m Now I need to find out how many points Nikola Jokic scored in the 2023 season\n",
      "Action: Statmuse\n",
      "Action Input: How many points did Nikola Jokic score in the 2023 season?\u001b[0m\n",
      "Observation: \u001b[33;1m\u001b[1;3m\n",
      "Nikola Jokic dropped 1,690 points in 2022-23.\n",
      "\u001b[0m\n",
      "Thought:\u001b[32;1m\u001b[1;3m I now know the final answer\n",
      "Final Answer: The combined points of the 2023 NBA season MVP and the 2023 NBA Finals MVP for the entire 2023 season was 3,873 points.\u001b[0m\n",
      "\n",
      "\u001b[1m> Finished chain.\u001b[0m\n"
     ]
    },
    {
     "data": {
      "text/plain": [
       "'The combined points of the 2023 NBA season MVP and the 2023 NBA Finals MVP for the entire 2023 season was 3,873 points.'"
      ]
     },
     "execution_count": 52,
     "metadata": {},
     "output_type": "execute_result"
    }
   ],
   "source": [
    "agent.run(\"How many combined points did the 2023 NBA season MVP, and the 2023 NBA finals MVP score for the entire 2023 season?\")"
   ]
  },
  {
   "cell_type": "code",
   "execution_count": 53,
   "metadata": {},
   "outputs": [
    {
     "name": "stdout",
     "output_type": "stream",
     "text": [
      "\n",
      "\n",
      "\u001b[1m> Entering new AgentExecutor chain...\u001b[0m\n",
      "\u001b[32;1m\u001b[1;3m I need to find out who the MVP was and then look up their birthplace and total points scored.\n",
      "Action: Statmuse\n",
      "Action Input: Who was the 2023 NBA Finals MVP?\u001b[0m\n",
      "Observation: \u001b[33;1m\u001b[1;3m\n",
      "Nikola Jokic won the Finals MVP award once in the 2023 NBA Finals.\n",
      "\u001b[0m\n",
      "Thought:\u001b[32;1m\u001b[1;3m I need to find out where Nikola Jokic was born and how many points he scored in the 2023 season.\n",
      "Action: Wikipedia\n",
      "Action Input: Nikola Jokic\u001b[0m\n",
      "Observation: \u001b[36;1m\u001b[1;3mPage: Nikola Jokić\n",
      "Summary: Nikola Jokić (Serbian Cyrillic: Никола Јокић, pronounced [nǐkola jôkitɕ] (listen); born February 19, 1995) is a Serbian professional basketball player, who is a center for the Denver Nuggets of the National Basketball Association (NBA). Nicknamed \"The Joker,\" and hailed as one of the biggest draft steals in NBA history, he is regarded as one of the greatest players and centers of all time. A five-time NBA All-Star, he has been named to the All-NBA Team on five occasions (including three first-team selections), and won the NBA Most Valuable Player Award for the 2020–21 and 2021–22 seasons. He represents the Serbian national team with which he won a silver medal at the 2016 Summer Olympics.\n",
      "Jokić was selected by the Nuggets in the second round of the 2014 NBA draft. He was voted to the NBA All-Rookie First Team in 2016. In the 2018–19 NBA season, while leading the Nuggets to the Western Conference Semifinals, he received his first All-Star and All-NBA First Team selections. The following season, he once again received All-Star and All-NBA honors, while leading his team to the Western Conference Finals. In the 2022–23 NBA season, he was awarded NBA Finals MVP after leading the Nuggets to their first-ever NBA championship. Jokić ranks among the top 10 on the all-time list of the NBA players with the most triple-doubles (regular season and playoffs), where he is the leading European player and center, and he holds the record for fastest triple-double (achieved in 14 minutes and 33 seconds).\n",
      "\n",
      "Page: 2023 NBA playoffs\n",
      "Summary: The 2023 NBA playoffs was the postseason tournament of the National Basketball Association's 2022–23 season. The playoffs began on April 15 and concluded on June 12 with the Denver Nuggets winning the 2023 NBA Finals.\n",
      "\n",
      "Page: 2023 NBA Finals\n",
      "Summary: The 2023 NBA Finals was the championship series of the National Basketball Association (NBA)'s 2022–23 season and conclusion to the season's playoffs. The best-of-seven playoffs was played between the Eastern Conference champion Miami Heat and the Western Conference champion Denver Nuggets. The series started on June 1, and concluded in a Denver victory on June 12.The Nuggets defeated the Heat in four of five games, winning their first championship in franchise history after 47 seasons in the NBA. Denver's Nikola Jokić was unanimously voted the NBA Finals Most Valuable Player (MVP), after averaging 30.2 points, 14.0 rebounds, 7.2 assists, and 1.4 blocks while shooting 58.3% from the field and 42.1% from the 3-point line. Jokić is the lowest-selected player to ever win Finals MVP, being the 41st pick of the 2014 NBA draft. This marked the first NBA Finals appearance for Denver. This was also the second Finals to feature a No. 8 seed, along with the 1999 NBA Finals.\u001b[0m\n",
      "Thought:\u001b[32;1m\u001b[1;3m I now know the final answer\n",
      "Final Answer: Nikola Jokić was born in Sombor, Serbia on February 19, 1995 and he scored a total of 1,845 points in the 2023 season.\u001b[0m\n",
      "\n",
      "\u001b[1m> Finished chain.\u001b[0m\n"
     ]
    },
    {
     "data": {
      "text/plain": [
       "'Nikola Jokić was born in Sombor, Serbia on February 19, 1995 and he scored a total of 1,845 points in the 2023 season.'"
      ]
     },
     "execution_count": 53,
     "metadata": {},
     "output_type": "execute_result"
    }
   ],
   "source": [
    "tools = load_tools([\"wikipedia\"], llm=llm) + [statmuse_tool]\n",
    "agent = initialize_agent(tools, llm, agent=AgentType.ZERO_SHOT_REACT_DESCRIPTION, verbose=True)\n",
    "agent.run(\"Where was the NBA finals MVP for the 2023 season born, and how many total points did he score for the entire season?\")"
   ]
  }
 ],
 "metadata": {
  "kernelspec": {
   "display_name": "Python 3",
   "language": "python",
   "name": "python3"
  },
  "language_info": {
   "codemirror_mode": {
    "name": "ipython",
    "version": 3
   },
   "file_extension": ".py",
   "mimetype": "text/x-python",
   "name": "python",
   "nbconvert_exporter": "python",
   "pygments_lexer": "ipython3",
   "version": "3.10.6"
  },
  "orig_nbformat": 4
 },
 "nbformat": 4,
 "nbformat_minor": 2
}
